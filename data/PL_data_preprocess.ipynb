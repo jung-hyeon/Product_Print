{
 "cells": [
  {
   "cell_type": "markdown",
   "metadata": {
    "id": "pnMuPE32JWIy"
   },
   "source": [
    "## 0. google drive mount 및 경로 설정"
   ]
  },
  {
   "cell_type": "code",
   "execution_count": 31,
   "metadata": {
    "id": "vWXA8xznUmK4"
   },
   "outputs": [],
   "source": [
    "import pandas as pd"
   ]
  },
  {
   "cell_type": "code",
   "execution_count": 32,
   "metadata": {
    "colab": {
     "base_uri": "https://localhost:8080/"
    },
    "id": "jsiwW5kiUUV3",
    "outputId": "7c85e31a-3464-4aec-ad1b-11e80b642d0c"
   },
   "outputs": [
    {
     "name": "stdout",
     "output_type": "stream",
     "text": [
      "Drive already mounted at /content/drive; to attempt to forcibly remount, call drive.mount(\"/content/drive\", force_remount=True).\n"
     ]
    }
   ],
   "source": [
    "from google.colab import drive\n",
    "drive.mount('/content/drive')"
   ]
  },
  {
   "cell_type": "code",
   "execution_count": 33,
   "metadata": {
    "id": "Cd-eZ7mxUVjQ"
   },
   "outputs": [],
   "source": [
    "dpath = \"/content/drive/MyDrive/.../\"   # 경로 설정 필요"
   ]
  },
  {
   "cell_type": "markdown",
   "metadata": {
    "id": "yBqaV1Z9J2qb"
   },
   "source": [
    "## 1. FURNITURE 전처리\n"
   ]
  },
  {
   "cell_type": "markdown",
   "metadata": {
    "id": "FlPjKrYVM5yH"
   },
   "source": [
    "Furniture category in IKEA Saudi Arabia as of 4/20/2020"
   ]
  },
  {
   "cell_type": "code",
   "execution_count": 34,
   "metadata": {
    "id": "1V3gFdUSUzx3"
   },
   "outputs": [],
   "source": [
    "FURNITURE = pd.read_csv(dpath + \"IKEA_FURNITURE_raw.csv\")"
   ]
  },
  {
   "cell_type": "code",
   "execution_count": 35,
   "metadata": {
    "colab": {
     "base_uri": "https://localhost:8080/",
     "height": 409
    },
    "id": "Ga4qExVuM_bi",
    "outputId": "ed2aee5f-f8b2-427d-e209-268a49c7f3fb"
   },
   "outputs": [
    {
     "data": {
      "text/html": [
       "\n",
       "  <div id=\"df-7572bad4-205f-44b2-ae97-56ff8021e329\">\n",
       "    <div class=\"colab-df-container\">\n",
       "      <div>\n",
       "<style scoped>\n",
       "    .dataframe tbody tr th:only-of-type {\n",
       "        vertical-align: middle;\n",
       "    }\n",
       "\n",
       "    .dataframe tbody tr th {\n",
       "        vertical-align: top;\n",
       "    }\n",
       "\n",
       "    .dataframe thead th {\n",
       "        text-align: right;\n",
       "    }\n",
       "</style>\n",
       "<table border=\"1\" class=\"dataframe\">\n",
       "  <thead>\n",
       "    <tr style=\"text-align: right;\">\n",
       "      <th></th>\n",
       "      <th>Unnamed: 0</th>\n",
       "      <th>item_id</th>\n",
       "      <th>name</th>\n",
       "      <th>category</th>\n",
       "      <th>price</th>\n",
       "      <th>old_price</th>\n",
       "      <th>sellable_online</th>\n",
       "      <th>link</th>\n",
       "      <th>other_colors</th>\n",
       "      <th>short_description</th>\n",
       "      <th>designer</th>\n",
       "      <th>depth</th>\n",
       "      <th>height</th>\n",
       "      <th>width</th>\n",
       "    </tr>\n",
       "  </thead>\n",
       "  <tbody>\n",
       "    <tr>\n",
       "      <th>0</th>\n",
       "      <td>0</td>\n",
       "      <td>90420332</td>\n",
       "      <td>FREKVENS</td>\n",
       "      <td>Bar furniture</td>\n",
       "      <td>265.0</td>\n",
       "      <td>No old price</td>\n",
       "      <td>True</td>\n",
       "      <td>https://www.ikea.com/sa/en/p/frekvens-bar-tabl...</td>\n",
       "      <td>No</td>\n",
       "      <td>Bar table, in/outdoor,          51x51 cm</td>\n",
       "      <td>Nicholai Wiig Hansen</td>\n",
       "      <td>NaN</td>\n",
       "      <td>99.0</td>\n",
       "      <td>51.0</td>\n",
       "    </tr>\n",
       "    <tr>\n",
       "      <th>1</th>\n",
       "      <td>1</td>\n",
       "      <td>368814</td>\n",
       "      <td>NORDVIKEN</td>\n",
       "      <td>Bar furniture</td>\n",
       "      <td>995.0</td>\n",
       "      <td>No old price</td>\n",
       "      <td>False</td>\n",
       "      <td>https://www.ikea.com/sa/en/p/nordviken-bar-tab...</td>\n",
       "      <td>No</td>\n",
       "      <td>Bar table,          140x80 cm</td>\n",
       "      <td>Francis Cayouette</td>\n",
       "      <td>NaN</td>\n",
       "      <td>105.0</td>\n",
       "      <td>80.0</td>\n",
       "    </tr>\n",
       "    <tr>\n",
       "      <th>2</th>\n",
       "      <td>2</td>\n",
       "      <td>9333523</td>\n",
       "      <td>NORDVIKEN / NORDVIKEN</td>\n",
       "      <td>Bar furniture</td>\n",
       "      <td>2095.0</td>\n",
       "      <td>No old price</td>\n",
       "      <td>False</td>\n",
       "      <td>https://www.ikea.com/sa/en/p/nordviken-nordvik...</td>\n",
       "      <td>No</td>\n",
       "      <td>Bar table and 4 bar stools</td>\n",
       "      <td>Francis Cayouette</td>\n",
       "      <td>NaN</td>\n",
       "      <td>NaN</td>\n",
       "      <td>NaN</td>\n",
       "    </tr>\n",
       "    <tr>\n",
       "      <th>3</th>\n",
       "      <td>3</td>\n",
       "      <td>80155205</td>\n",
       "      <td>STIG</td>\n",
       "      <td>Bar furniture</td>\n",
       "      <td>69.0</td>\n",
       "      <td>No old price</td>\n",
       "      <td>True</td>\n",
       "      <td>https://www.ikea.com/sa/en/p/stig-bar-stool-wi...</td>\n",
       "      <td>Yes</td>\n",
       "      <td>Bar stool with backrest,          74 cm</td>\n",
       "      <td>Henrik Preutz</td>\n",
       "      <td>50.0</td>\n",
       "      <td>100.0</td>\n",
       "      <td>60.0</td>\n",
       "    </tr>\n",
       "    <tr>\n",
       "      <th>4</th>\n",
       "      <td>4</td>\n",
       "      <td>30180504</td>\n",
       "      <td>NORBERG</td>\n",
       "      <td>Bar furniture</td>\n",
       "      <td>225.0</td>\n",
       "      <td>No old price</td>\n",
       "      <td>True</td>\n",
       "      <td>https://www.ikea.com/sa/en/p/norberg-wall-moun...</td>\n",
       "      <td>No</td>\n",
       "      <td>Wall-mounted drop-leaf table,         ...</td>\n",
       "      <td>Marcus Arvonen</td>\n",
       "      <td>60.0</td>\n",
       "      <td>43.0</td>\n",
       "      <td>74.0</td>\n",
       "    </tr>\n",
       "  </tbody>\n",
       "</table>\n",
       "</div>\n",
       "      <button class=\"colab-df-convert\" onclick=\"convertToInteractive('df-7572bad4-205f-44b2-ae97-56ff8021e329')\"\n",
       "              title=\"Convert this dataframe to an interactive table.\"\n",
       "              style=\"display:none;\">\n",
       "        \n",
       "  <svg xmlns=\"http://www.w3.org/2000/svg\" height=\"24px\"viewBox=\"0 0 24 24\"\n",
       "       width=\"24px\">\n",
       "    <path d=\"M0 0h24v24H0V0z\" fill=\"none\"/>\n",
       "    <path d=\"M18.56 5.44l.94 2.06.94-2.06 2.06-.94-2.06-.94-.94-2.06-.94 2.06-2.06.94zm-11 1L8.5 8.5l.94-2.06 2.06-.94-2.06-.94L8.5 2.5l-.94 2.06-2.06.94zm10 10l.94 2.06.94-2.06 2.06-.94-2.06-.94-.94-2.06-.94 2.06-2.06.94z\"/><path d=\"M17.41 7.96l-1.37-1.37c-.4-.4-.92-.59-1.43-.59-.52 0-1.04.2-1.43.59L10.3 9.45l-7.72 7.72c-.78.78-.78 2.05 0 2.83L4 21.41c.39.39.9.59 1.41.59.51 0 1.02-.2 1.41-.59l7.78-7.78 2.81-2.81c.8-.78.8-2.07 0-2.86zM5.41 20L4 18.59l7.72-7.72 1.47 1.35L5.41 20z\"/>\n",
       "  </svg>\n",
       "      </button>\n",
       "      \n",
       "  <style>\n",
       "    .colab-df-container {\n",
       "      display:flex;\n",
       "      flex-wrap:wrap;\n",
       "      gap: 12px;\n",
       "    }\n",
       "\n",
       "    .colab-df-convert {\n",
       "      background-color: #E8F0FE;\n",
       "      border: none;\n",
       "      border-radius: 50%;\n",
       "      cursor: pointer;\n",
       "      display: none;\n",
       "      fill: #1967D2;\n",
       "      height: 32px;\n",
       "      padding: 0 0 0 0;\n",
       "      width: 32px;\n",
       "    }\n",
       "\n",
       "    .colab-df-convert:hover {\n",
       "      background-color: #E2EBFA;\n",
       "      box-shadow: 0px 1px 2px rgba(60, 64, 67, 0.3), 0px 1px 3px 1px rgba(60, 64, 67, 0.15);\n",
       "      fill: #174EA6;\n",
       "    }\n",
       "\n",
       "    [theme=dark] .colab-df-convert {\n",
       "      background-color: #3B4455;\n",
       "      fill: #D2E3FC;\n",
       "    }\n",
       "\n",
       "    [theme=dark] .colab-df-convert:hover {\n",
       "      background-color: #434B5C;\n",
       "      box-shadow: 0px 1px 3px 1px rgba(0, 0, 0, 0.15);\n",
       "      filter: drop-shadow(0px 1px 2px rgba(0, 0, 0, 0.3));\n",
       "      fill: #FFFFFF;\n",
       "    }\n",
       "  </style>\n",
       "\n",
       "      <script>\n",
       "        const buttonEl =\n",
       "          document.querySelector('#df-7572bad4-205f-44b2-ae97-56ff8021e329 button.colab-df-convert');\n",
       "        buttonEl.style.display =\n",
       "          google.colab.kernel.accessAllowed ? 'block' : 'none';\n",
       "\n",
       "        async function convertToInteractive(key) {\n",
       "          const element = document.querySelector('#df-7572bad4-205f-44b2-ae97-56ff8021e329');\n",
       "          const dataTable =\n",
       "            await google.colab.kernel.invokeFunction('convertToInteractive',\n",
       "                                                     [key], {});\n",
       "          if (!dataTable) return;\n",
       "\n",
       "          const docLinkHtml = 'Like what you see? Visit the ' +\n",
       "            '<a target=\"_blank\" href=https://colab.research.google.com/notebooks/data_table.ipynb>data table notebook</a>'\n",
       "            + ' to learn more about interactive tables.';\n",
       "          element.innerHTML = '';\n",
       "          dataTable['output_type'] = 'display_data';\n",
       "          await google.colab.output.renderOutput(dataTable, element);\n",
       "          const docLink = document.createElement('div');\n",
       "          docLink.innerHTML = docLinkHtml;\n",
       "          element.appendChild(docLink);\n",
       "        }\n",
       "      </script>\n",
       "    </div>\n",
       "  </div>\n",
       "  "
      ],
      "text/plain": [
       "   Unnamed: 0   item_id                   name       category   price  \\\n",
       "0           0  90420332               FREKVENS  Bar furniture   265.0   \n",
       "1           1    368814              NORDVIKEN  Bar furniture   995.0   \n",
       "2           2   9333523  NORDVIKEN / NORDVIKEN  Bar furniture  2095.0   \n",
       "3           3  80155205                   STIG  Bar furniture    69.0   \n",
       "4           4  30180504                NORBERG  Bar furniture   225.0   \n",
       "\n",
       "      old_price  sellable_online  \\\n",
       "0  No old price             True   \n",
       "1  No old price            False   \n",
       "2  No old price            False   \n",
       "3  No old price             True   \n",
       "4  No old price             True   \n",
       "\n",
       "                                                link other_colors  \\\n",
       "0  https://www.ikea.com/sa/en/p/frekvens-bar-tabl...           No   \n",
       "1  https://www.ikea.com/sa/en/p/nordviken-bar-tab...           No   \n",
       "2  https://www.ikea.com/sa/en/p/nordviken-nordvik...           No   \n",
       "3  https://www.ikea.com/sa/en/p/stig-bar-stool-wi...          Yes   \n",
       "4  https://www.ikea.com/sa/en/p/norberg-wall-moun...           No   \n",
       "\n",
       "                                   short_description              designer  \\\n",
       "0           Bar table, in/outdoor,          51x51 cm  Nicholai Wiig Hansen   \n",
       "1                      Bar table,          140x80 cm     Francis Cayouette   \n",
       "2                         Bar table and 4 bar stools     Francis Cayouette   \n",
       "3            Bar stool with backrest,          74 cm         Henrik Preutz   \n",
       "4          Wall-mounted drop-leaf table,         ...        Marcus Arvonen   \n",
       "\n",
       "   depth  height  width  \n",
       "0    NaN    99.0   51.0  \n",
       "1    NaN   105.0   80.0  \n",
       "2    NaN     NaN    NaN  \n",
       "3   50.0   100.0   60.0  \n",
       "4   60.0    43.0   74.0  "
      ]
     },
     "execution_count": 35,
     "metadata": {},
     "output_type": "execute_result"
    }
   ],
   "source": [
    "FURNITURE.head()"
   ]
  },
  {
   "cell_type": "code",
   "execution_count": 36,
   "metadata": {
    "id": "sjWk7SJeNF-b"
   },
   "outputs": [],
   "source": [
    "# 필요한 칼럼 추출 및 순서 재배치\n",
    "FURNITURE = FURNITURE[['name', 'price', 'category', 'designer', 'sellable_online', 'depth', 'height', 'width','short_description']]"
   ]
  },
  {
   "cell_type": "code",
   "execution_count": 37,
   "metadata": {
    "colab": {
     "base_uri": "https://localhost:8080/"
    },
    "id": "PL8veuhHNa3k",
    "outputId": "1266338e-6d47-4480-c91e-0fdab397be06"
   },
   "outputs": [
    {
     "data": {
      "text/plain": [
       "name                    0\n",
       "price                   0\n",
       "category                0\n",
       "designer                0\n",
       "sellable_online         0\n",
       "depth                1463\n",
       "height                988\n",
       "width                 589\n",
       "short_description       0\n",
       "dtype: int64"
      ]
     },
     "execution_count": 37,
     "metadata": {},
     "output_type": "execute_result"
    }
   ],
   "source": [
    "# 결측치 확인\n",
    "FURNITURE.isna().sum()"
   ]
  },
  {
   "cell_type": "code",
   "execution_count": 38,
   "metadata": {
    "id": "OjjsPbuUNa93"
   },
   "outputs": [],
   "source": [
    "# 결측치 제거\n",
    "FURNITURE = FURNITURE.dropna()"
   ]
  },
  {
   "cell_type": "code",
   "execution_count": 39,
   "metadata": {
    "id": "VKBDq5UbCg_R"
   },
   "outputs": [],
   "source": [
    "# 특정 data에 , 포함된 행 제거 => csv파일 읽을 시 오류 발생(description 칼럼은 제외)\n",
    "drop_idx_category = FURNITURE[FURNITURE['category'].str.contains(',')].index\n",
    "FURNITURE.drop(index = drop_idx_category, inplace = True)\n",
    "\n",
    "drop_idx_designer = FURNITURE[FURNITURE['designer'].str.contains(',')].index\n",
    "FURNITURE.drop(index = drop_idx_designer, inplace = True)"
   ]
  },
  {
   "cell_type": "code",
   "execution_count": 40,
   "metadata": {
    "id": "AFclPE0uNbDx"
   },
   "outputs": [],
   "source": [
    "# 전처리 완료된 데이터파일 저장\n",
    "FURNITURE.to_csv(dpath + \"full_FURNITURE.csv\", encoding = 'utf8', index= False)"
   ]
  },
  {
   "cell_type": "markdown",
   "metadata": {
    "id": "AqDZM0V-JfqM"
   },
   "source": [
    "## 2. GROCERY 전처리"
   ]
  },
  {
   "cell_type": "markdown",
   "metadata": {
    "id": "2yZrzB9hJjK6"
   },
   "source": [
    "The dataset contains the products listed on the website of online grocery store Big Basket.\n",
    "\n",
    "\n"
   ]
  },
  {
   "cell_type": "code",
   "execution_count": 41,
   "metadata": {
    "id": "5iqIxYJoUo3C"
   },
   "outputs": [],
   "source": [
    "GROCERY = pd.read_csv(dpath + \"DMart_GROCERY_raw.csv\")"
   ]
  },
  {
   "cell_type": "code",
   "execution_count": 42,
   "metadata": {
    "colab": {
     "base_uri": "https://localhost:8080/",
     "height": 206
    },
    "id": "jqduyyLnJ2d3",
    "outputId": "01b0d5f3-a60f-4119-f8ca-bbe43b1d04ae"
   },
   "outputs": [
    {
     "data": {
      "text/html": [
       "\n",
       "  <div id=\"df-f5a48400-d2dd-4e89-aa2f-d9d359c9665e\">\n",
       "    <div class=\"colab-df-container\">\n",
       "      <div>\n",
       "<style scoped>\n",
       "    .dataframe tbody tr th:only-of-type {\n",
       "        vertical-align: middle;\n",
       "    }\n",
       "\n",
       "    .dataframe tbody tr th {\n",
       "        vertical-align: top;\n",
       "    }\n",
       "\n",
       "    .dataframe thead th {\n",
       "        text-align: right;\n",
       "    }\n",
       "</style>\n",
       "<table border=\"1\" class=\"dataframe\">\n",
       "  <thead>\n",
       "    <tr style=\"text-align: right;\">\n",
       "      <th></th>\n",
       "      <th>Name</th>\n",
       "      <th>Brand</th>\n",
       "      <th>Price</th>\n",
       "      <th>DiscountedPrice</th>\n",
       "      <th>Category</th>\n",
       "      <th>SubCategory</th>\n",
       "      <th>Quantity</th>\n",
       "      <th>Description</th>\n",
       "      <th>BreadCrumbs</th>\n",
       "    </tr>\n",
       "  </thead>\n",
       "  <tbody>\n",
       "    <tr>\n",
       "      <th>0</th>\n",
       "      <td>Premia Badam (Almonds)</td>\n",
       "      <td>Premia</td>\n",
       "      <td>451.0</td>\n",
       "      <td>329.0</td>\n",
       "      <td>Grocery</td>\n",
       "      <td>Grocery/Dry Fruits</td>\n",
       "      <td>500 gm</td>\n",
       "      <td>India</td>\n",
       "      <td>Grocery &gt; Grocery/Dry Fruits</td>\n",
       "    </tr>\n",
       "    <tr>\n",
       "      <th>1</th>\n",
       "      <td>Premia Badam (Almonds)</td>\n",
       "      <td>Premia</td>\n",
       "      <td>109.0</td>\n",
       "      <td>85.0</td>\n",
       "      <td>Grocery</td>\n",
       "      <td>Grocery/Dry Fruits</td>\n",
       "      <td>100 gm</td>\n",
       "      <td>India</td>\n",
       "      <td>Grocery &gt; Grocery/Dry Fruits</td>\n",
       "    </tr>\n",
       "    <tr>\n",
       "      <th>2</th>\n",
       "      <td>Premia Badam (Almonds)</td>\n",
       "      <td>Premia</td>\n",
       "      <td>202.0</td>\n",
       "      <td>175.0</td>\n",
       "      <td>Grocery</td>\n",
       "      <td>Grocery/Dry Fruits</td>\n",
       "      <td>200 gm</td>\n",
       "      <td>India</td>\n",
       "      <td>Grocery &gt; Grocery/Dry Fruits</td>\n",
       "    </tr>\n",
       "    <tr>\n",
       "      <th>3</th>\n",
       "      <td>Nutraj California Almonds (Badam)</td>\n",
       "      <td>Nutraj</td>\n",
       "      <td>599.0</td>\n",
       "      <td>349.0</td>\n",
       "      <td>Grocery</td>\n",
       "      <td>Dry Fruits</td>\n",
       "      <td>500 gm</td>\n",
       "      <td>USA</td>\n",
       "      <td>Grocery &gt; Dry Fruits</td>\n",
       "    </tr>\n",
       "    <tr>\n",
       "      <th>4</th>\n",
       "      <td>Nutraj California Almonds (Badam)</td>\n",
       "      <td>Nutraj</td>\n",
       "      <td>1549.0</td>\n",
       "      <td>659.0</td>\n",
       "      <td>Grocery</td>\n",
       "      <td>Dry Fruits</td>\n",
       "      <td>1 kg</td>\n",
       "      <td>USA</td>\n",
       "      <td>Grocery &gt; Dry Fruits</td>\n",
       "    </tr>\n",
       "  </tbody>\n",
       "</table>\n",
       "</div>\n",
       "      <button class=\"colab-df-convert\" onclick=\"convertToInteractive('df-f5a48400-d2dd-4e89-aa2f-d9d359c9665e')\"\n",
       "              title=\"Convert this dataframe to an interactive table.\"\n",
       "              style=\"display:none;\">\n",
       "        \n",
       "  <svg xmlns=\"http://www.w3.org/2000/svg\" height=\"24px\"viewBox=\"0 0 24 24\"\n",
       "       width=\"24px\">\n",
       "    <path d=\"M0 0h24v24H0V0z\" fill=\"none\"/>\n",
       "    <path d=\"M18.56 5.44l.94 2.06.94-2.06 2.06-.94-2.06-.94-.94-2.06-.94 2.06-2.06.94zm-11 1L8.5 8.5l.94-2.06 2.06-.94-2.06-.94L8.5 2.5l-.94 2.06-2.06.94zm10 10l.94 2.06.94-2.06 2.06-.94-2.06-.94-.94-2.06-.94 2.06-2.06.94z\"/><path d=\"M17.41 7.96l-1.37-1.37c-.4-.4-.92-.59-1.43-.59-.52 0-1.04.2-1.43.59L10.3 9.45l-7.72 7.72c-.78.78-.78 2.05 0 2.83L4 21.41c.39.39.9.59 1.41.59.51 0 1.02-.2 1.41-.59l7.78-7.78 2.81-2.81c.8-.78.8-2.07 0-2.86zM5.41 20L4 18.59l7.72-7.72 1.47 1.35L5.41 20z\"/>\n",
       "  </svg>\n",
       "      </button>\n",
       "      \n",
       "  <style>\n",
       "    .colab-df-container {\n",
       "      display:flex;\n",
       "      flex-wrap:wrap;\n",
       "      gap: 12px;\n",
       "    }\n",
       "\n",
       "    .colab-df-convert {\n",
       "      background-color: #E8F0FE;\n",
       "      border: none;\n",
       "      border-radius: 50%;\n",
       "      cursor: pointer;\n",
       "      display: none;\n",
       "      fill: #1967D2;\n",
       "      height: 32px;\n",
       "      padding: 0 0 0 0;\n",
       "      width: 32px;\n",
       "    }\n",
       "\n",
       "    .colab-df-convert:hover {\n",
       "      background-color: #E2EBFA;\n",
       "      box-shadow: 0px 1px 2px rgba(60, 64, 67, 0.3), 0px 1px 3px 1px rgba(60, 64, 67, 0.15);\n",
       "      fill: #174EA6;\n",
       "    }\n",
       "\n",
       "    [theme=dark] .colab-df-convert {\n",
       "      background-color: #3B4455;\n",
       "      fill: #D2E3FC;\n",
       "    }\n",
       "\n",
       "    [theme=dark] .colab-df-convert:hover {\n",
       "      background-color: #434B5C;\n",
       "      box-shadow: 0px 1px 3px 1px rgba(0, 0, 0, 0.15);\n",
       "      filter: drop-shadow(0px 1px 2px rgba(0, 0, 0, 0.3));\n",
       "      fill: #FFFFFF;\n",
       "    }\n",
       "  </style>\n",
       "\n",
       "      <script>\n",
       "        const buttonEl =\n",
       "          document.querySelector('#df-f5a48400-d2dd-4e89-aa2f-d9d359c9665e button.colab-df-convert');\n",
       "        buttonEl.style.display =\n",
       "          google.colab.kernel.accessAllowed ? 'block' : 'none';\n",
       "\n",
       "        async function convertToInteractive(key) {\n",
       "          const element = document.querySelector('#df-f5a48400-d2dd-4e89-aa2f-d9d359c9665e');\n",
       "          const dataTable =\n",
       "            await google.colab.kernel.invokeFunction('convertToInteractive',\n",
       "                                                     [key], {});\n",
       "          if (!dataTable) return;\n",
       "\n",
       "          const docLinkHtml = 'Like what you see? Visit the ' +\n",
       "            '<a target=\"_blank\" href=https://colab.research.google.com/notebooks/data_table.ipynb>data table notebook</a>'\n",
       "            + ' to learn more about interactive tables.';\n",
       "          element.innerHTML = '';\n",
       "          dataTable['output_type'] = 'display_data';\n",
       "          await google.colab.output.renderOutput(dataTable, element);\n",
       "          const docLink = document.createElement('div');\n",
       "          docLink.innerHTML = docLinkHtml;\n",
       "          element.appendChild(docLink);\n",
       "        }\n",
       "      </script>\n",
       "    </div>\n",
       "  </div>\n",
       "  "
      ],
      "text/plain": [
       "                                Name   Brand   Price  DiscountedPrice  \\\n",
       "0             Premia Badam (Almonds)  Premia   451.0            329.0   \n",
       "1             Premia Badam (Almonds)  Premia   109.0             85.0   \n",
       "2             Premia Badam (Almonds)  Premia   202.0            175.0   \n",
       "3  Nutraj California Almonds (Badam)  Nutraj   599.0            349.0   \n",
       "4  Nutraj California Almonds (Badam)  Nutraj  1549.0            659.0   \n",
       "\n",
       "  Category         SubCategory Quantity Description  \\\n",
       "0  Grocery  Grocery/Dry Fruits   500 gm       India   \n",
       "1  Grocery  Grocery/Dry Fruits   100 gm       India   \n",
       "2  Grocery  Grocery/Dry Fruits   200 gm       India   \n",
       "3  Grocery          Dry Fruits   500 gm         USA   \n",
       "4  Grocery          Dry Fruits     1 kg         USA   \n",
       "\n",
       "                    BreadCrumbs  \n",
       "0  Grocery > Grocery/Dry Fruits  \n",
       "1  Grocery > Grocery/Dry Fruits  \n",
       "2  Grocery > Grocery/Dry Fruits  \n",
       "3          Grocery > Dry Fruits  \n",
       "4          Grocery > Dry Fruits  "
      ]
     },
     "execution_count": 42,
     "metadata": {},
     "output_type": "execute_result"
    }
   ],
   "source": [
    "GROCERY.head()"
   ]
  },
  {
   "cell_type": "code",
   "execution_count": 43,
   "metadata": {
    "id": "5B2ghw8iJ2kY"
   },
   "outputs": [],
   "source": [
    "# 필요한 칼럼 추출 및 순서 재배치\n",
    "GROCERY = GROCERY[['Name', 'Price', 'DiscountedPrice', 'SubCategory','Brand', 'Quantity' ,'Description']]"
   ]
  },
  {
   "cell_type": "code",
   "execution_count": 44,
   "metadata": {
    "colab": {
     "base_uri": "https://localhost:8080/"
    },
    "id": "hnFw0yt9LC7c",
    "outputId": "9438d135-4e86-4985-f234-a6b700fc02f2"
   },
   "outputs": [
    {
     "data": {
      "text/plain": [
       "Name                 1\n",
       "Price                1\n",
       "DiscountedPrice      1\n",
       "SubCategory          3\n",
       "Brand              400\n",
       "Quantity             1\n",
       "Description          2\n",
       "dtype: int64"
      ]
     },
     "execution_count": 44,
     "metadata": {},
     "output_type": "execute_result"
    }
   ],
   "source": [
    "# 결측치 확인\n",
    "GROCERY.isna().sum()"
   ]
  },
  {
   "cell_type": "code",
   "execution_count": 45,
   "metadata": {
    "id": "uZOcSPZMLQGv"
   },
   "outputs": [],
   "source": [
    "# 결측치 제거\n",
    "GROCERY = GROCERY.dropna()"
   ]
  },
  {
   "cell_type": "code",
   "execution_count": 46,
   "metadata": {
    "colab": {
     "base_uri": "https://localhost:8080/"
    },
    "id": "SrgkDFE8jb3C",
    "outputId": "8ab426a2-eb55-4714-e542-575fe437d780"
   },
   "outputs": [
    {
     "name": "stderr",
     "output_type": "stream",
     "text": [
      "/usr/local/lib/python3.8/dist-packages/pandas/core/frame.py:4906: SettingWithCopyWarning: \n",
      "A value is trying to be set on a copy of a slice from a DataFrame\n",
      "\n",
      "See the caveats in the documentation: https://pandas.pydata.org/pandas-docs/stable/user_guide/indexing.html#returning-a-view-versus-a-copy\n",
      "  return super().drop(\n"
     ]
    }
   ],
   "source": [
    "# 특정 data에 \\n 포함된 행 제거 => csv파일 읽을 시 오류 발생\n",
    "drop_idx_Description = GROCERY[GROCERY['Description'].str.contains('\\n')].index\n",
    "GROCERY.drop(index = drop_idx_Description, inplace = True)"
   ]
  },
  {
   "cell_type": "code",
   "execution_count": 47,
   "metadata": {
    "id": "LzCE-AA_LX6O"
   },
   "outputs": [],
   "source": [
    "# 전처리 완료된 데이터파일 저장\n",
    "GROCERY.to_csv(dpath + \"full_GROCERY.csv\", encoding = 'utf8', index= False)"
   ]
  },
  {
   "cell_type": "markdown",
   "metadata": {
    "id": "qMJMRvH7KAX_"
   },
   "source": [
    "## 3. PHONE 전처리"
   ]
  },
  {
   "cell_type": "markdown",
   "metadata": {
    "id": "BsNiry52RYTg"
   },
   "source": [
    "The dataset set contains data about the mobile phones which were released in past 4 years and which can be bought in Ukraine."
   ]
  },
  {
   "cell_type": "code",
   "execution_count": 48,
   "metadata": {
    "id": "V2bXV5UbU66x"
   },
   "outputs": [],
   "source": [
    "PHONE = pd.read_csv(dpath + \"PHONE_raw.csv\")"
   ]
  },
  {
   "cell_type": "code",
   "execution_count": 49,
   "metadata": {
    "colab": {
     "base_uri": "https://localhost:8080/"
    },
    "id": "6P_Ab3d84RUx",
    "outputId": "f3563b28-acd6-4ece-eab5-f43294783932"
   },
   "outputs": [
    {
     "data": {
      "text/plain": [
       "Index(['Unnamed: 0', 'brand_name', 'model_name', 'os', 'popularity',\n",
       "       'best_price', 'lowest_price', 'highest_price', 'sellers_amount',\n",
       "       'screen_size', 'memory_size', 'battery_size', 'release_date'],\n",
       "      dtype='object')"
      ]
     },
     "execution_count": 49,
     "metadata": {},
     "output_type": "execute_result"
    }
   ],
   "source": [
    "PHONE.columns"
   ]
  },
  {
   "cell_type": "code",
   "execution_count": 50,
   "metadata": {
    "colab": {
     "base_uri": "https://localhost:8080/",
     "height": 617
    },
    "id": "SjWVZ87pOCE0",
    "outputId": "640cecc1-16d8-4c30-dd77-f4ce2ff5ff2c"
   },
   "outputs": [
    {
     "data": {
      "text/html": [
       "\n",
       "  <div id=\"df-2beeede0-6410-45a7-813f-ea083530f9f5\">\n",
       "    <div class=\"colab-df-container\">\n",
       "      <div>\n",
       "<style scoped>\n",
       "    .dataframe tbody tr th:only-of-type {\n",
       "        vertical-align: middle;\n",
       "    }\n",
       "\n",
       "    .dataframe tbody tr th {\n",
       "        vertical-align: top;\n",
       "    }\n",
       "\n",
       "    .dataframe thead th {\n",
       "        text-align: right;\n",
       "    }\n",
       "</style>\n",
       "<table border=\"1\" class=\"dataframe\">\n",
       "  <thead>\n",
       "    <tr style=\"text-align: right;\">\n",
       "      <th></th>\n",
       "      <th>Unnamed: 0</th>\n",
       "      <th>brand_name</th>\n",
       "      <th>model_name</th>\n",
       "      <th>os</th>\n",
       "      <th>popularity</th>\n",
       "      <th>best_price</th>\n",
       "      <th>lowest_price</th>\n",
       "      <th>highest_price</th>\n",
       "      <th>sellers_amount</th>\n",
       "      <th>screen_size</th>\n",
       "      <th>memory_size</th>\n",
       "      <th>battery_size</th>\n",
       "      <th>release_date</th>\n",
       "    </tr>\n",
       "  </thead>\n",
       "  <tbody>\n",
       "    <tr>\n",
       "      <th>0</th>\n",
       "      <td>0</td>\n",
       "      <td>ALCATEL</td>\n",
       "      <td>1 1/8GB Bluish Black (5033D-2JALUAA)</td>\n",
       "      <td>Android</td>\n",
       "      <td>422</td>\n",
       "      <td>1690.0</td>\n",
       "      <td>1529.0</td>\n",
       "      <td>1819.0</td>\n",
       "      <td>36</td>\n",
       "      <td>5.00</td>\n",
       "      <td>8.0</td>\n",
       "      <td>2000.0</td>\n",
       "      <td>10-2020</td>\n",
       "    </tr>\n",
       "    <tr>\n",
       "      <th>1</th>\n",
       "      <td>1</td>\n",
       "      <td>ALCATEL</td>\n",
       "      <td>1 5033D 1/16GB Volcano Black (5033D-2LALUAF)</td>\n",
       "      <td>Android</td>\n",
       "      <td>323</td>\n",
       "      <td>1803.0</td>\n",
       "      <td>1659.0</td>\n",
       "      <td>2489.0</td>\n",
       "      <td>36</td>\n",
       "      <td>5.00</td>\n",
       "      <td>16.0</td>\n",
       "      <td>2000.0</td>\n",
       "      <td>9-2020</td>\n",
       "    </tr>\n",
       "    <tr>\n",
       "      <th>2</th>\n",
       "      <td>2</td>\n",
       "      <td>ALCATEL</td>\n",
       "      <td>1 5033D 1/16GB Volcano Black (5033D-2LALUAF)</td>\n",
       "      <td>Android</td>\n",
       "      <td>299</td>\n",
       "      <td>1803.0</td>\n",
       "      <td>1659.0</td>\n",
       "      <td>2489.0</td>\n",
       "      <td>36</td>\n",
       "      <td>5.00</td>\n",
       "      <td>16.0</td>\n",
       "      <td>2000.0</td>\n",
       "      <td>9-2020</td>\n",
       "    </tr>\n",
       "    <tr>\n",
       "      <th>3</th>\n",
       "      <td>3</td>\n",
       "      <td>ALCATEL</td>\n",
       "      <td>1 5033D 1/16GB Volcano Black (5033D-2LALUAF)</td>\n",
       "      <td>Android</td>\n",
       "      <td>287</td>\n",
       "      <td>1803.0</td>\n",
       "      <td>1659.0</td>\n",
       "      <td>2489.0</td>\n",
       "      <td>36</td>\n",
       "      <td>5.00</td>\n",
       "      <td>16.0</td>\n",
       "      <td>2000.0</td>\n",
       "      <td>9-2020</td>\n",
       "    </tr>\n",
       "    <tr>\n",
       "      <th>4</th>\n",
       "      <td>4</td>\n",
       "      <td>Nokia</td>\n",
       "      <td>1.3 1/16GB Charcoal</td>\n",
       "      <td>Android</td>\n",
       "      <td>1047</td>\n",
       "      <td>1999.0</td>\n",
       "      <td>NaN</td>\n",
       "      <td>NaN</td>\n",
       "      <td>10</td>\n",
       "      <td>5.71</td>\n",
       "      <td>16.0</td>\n",
       "      <td>3000.0</td>\n",
       "      <td>4-2020</td>\n",
       "    </tr>\n",
       "  </tbody>\n",
       "</table>\n",
       "</div>\n",
       "      <button class=\"colab-df-convert\" onclick=\"convertToInteractive('df-2beeede0-6410-45a7-813f-ea083530f9f5')\"\n",
       "              title=\"Convert this dataframe to an interactive table.\"\n",
       "              style=\"display:none;\">\n",
       "        \n",
       "  <svg xmlns=\"http://www.w3.org/2000/svg\" height=\"24px\"viewBox=\"0 0 24 24\"\n",
       "       width=\"24px\">\n",
       "    <path d=\"M0 0h24v24H0V0z\" fill=\"none\"/>\n",
       "    <path d=\"M18.56 5.44l.94 2.06.94-2.06 2.06-.94-2.06-.94-.94-2.06-.94 2.06-2.06.94zm-11 1L8.5 8.5l.94-2.06 2.06-.94-2.06-.94L8.5 2.5l-.94 2.06-2.06.94zm10 10l.94 2.06.94-2.06 2.06-.94-2.06-.94-.94-2.06-.94 2.06-2.06.94z\"/><path d=\"M17.41 7.96l-1.37-1.37c-.4-.4-.92-.59-1.43-.59-.52 0-1.04.2-1.43.59L10.3 9.45l-7.72 7.72c-.78.78-.78 2.05 0 2.83L4 21.41c.39.39.9.59 1.41.59.51 0 1.02-.2 1.41-.59l7.78-7.78 2.81-2.81c.8-.78.8-2.07 0-2.86zM5.41 20L4 18.59l7.72-7.72 1.47 1.35L5.41 20z\"/>\n",
       "  </svg>\n",
       "      </button>\n",
       "      \n",
       "  <style>\n",
       "    .colab-df-container {\n",
       "      display:flex;\n",
       "      flex-wrap:wrap;\n",
       "      gap: 12px;\n",
       "    }\n",
       "\n",
       "    .colab-df-convert {\n",
       "      background-color: #E8F0FE;\n",
       "      border: none;\n",
       "      border-radius: 50%;\n",
       "      cursor: pointer;\n",
       "      display: none;\n",
       "      fill: #1967D2;\n",
       "      height: 32px;\n",
       "      padding: 0 0 0 0;\n",
       "      width: 32px;\n",
       "    }\n",
       "\n",
       "    .colab-df-convert:hover {\n",
       "      background-color: #E2EBFA;\n",
       "      box-shadow: 0px 1px 2px rgba(60, 64, 67, 0.3), 0px 1px 3px 1px rgba(60, 64, 67, 0.15);\n",
       "      fill: #174EA6;\n",
       "    }\n",
       "\n",
       "    [theme=dark] .colab-df-convert {\n",
       "      background-color: #3B4455;\n",
       "      fill: #D2E3FC;\n",
       "    }\n",
       "\n",
       "    [theme=dark] .colab-df-convert:hover {\n",
       "      background-color: #434B5C;\n",
       "      box-shadow: 0px 1px 3px 1px rgba(0, 0, 0, 0.15);\n",
       "      filter: drop-shadow(0px 1px 2px rgba(0, 0, 0, 0.3));\n",
       "      fill: #FFFFFF;\n",
       "    }\n",
       "  </style>\n",
       "\n",
       "      <script>\n",
       "        const buttonEl =\n",
       "          document.querySelector('#df-2beeede0-6410-45a7-813f-ea083530f9f5 button.colab-df-convert');\n",
       "        buttonEl.style.display =\n",
       "          google.colab.kernel.accessAllowed ? 'block' : 'none';\n",
       "\n",
       "        async function convertToInteractive(key) {\n",
       "          const element = document.querySelector('#df-2beeede0-6410-45a7-813f-ea083530f9f5');\n",
       "          const dataTable =\n",
       "            await google.colab.kernel.invokeFunction('convertToInteractive',\n",
       "                                                     [key], {});\n",
       "          if (!dataTable) return;\n",
       "\n",
       "          const docLinkHtml = 'Like what you see? Visit the ' +\n",
       "            '<a target=\"_blank\" href=https://colab.research.google.com/notebooks/data_table.ipynb>data table notebook</a>'\n",
       "            + ' to learn more about interactive tables.';\n",
       "          element.innerHTML = '';\n",
       "          dataTable['output_type'] = 'display_data';\n",
       "          await google.colab.output.renderOutput(dataTable, element);\n",
       "          const docLink = document.createElement('div');\n",
       "          docLink.innerHTML = docLinkHtml;\n",
       "          element.appendChild(docLink);\n",
       "        }\n",
       "      </script>\n",
       "    </div>\n",
       "  </div>\n",
       "  "
      ],
      "text/plain": [
       "   Unnamed: 0 brand_name                                    model_name  \\\n",
       "0           0    ALCATEL          1 1/8GB Bluish Black (5033D-2JALUAA)   \n",
       "1           1    ALCATEL  1 5033D 1/16GB Volcano Black (5033D-2LALUAF)   \n",
       "2           2    ALCATEL  1 5033D 1/16GB Volcano Black (5033D-2LALUAF)   \n",
       "3           3    ALCATEL  1 5033D 1/16GB Volcano Black (5033D-2LALUAF)   \n",
       "4           4      Nokia                           1.3 1/16GB Charcoal   \n",
       "\n",
       "        os  popularity  best_price  lowest_price  highest_price  \\\n",
       "0  Android         422      1690.0        1529.0         1819.0   \n",
       "1  Android         323      1803.0        1659.0         2489.0   \n",
       "2  Android         299      1803.0        1659.0         2489.0   \n",
       "3  Android         287      1803.0        1659.0         2489.0   \n",
       "4  Android        1047      1999.0           NaN            NaN   \n",
       "\n",
       "   sellers_amount  screen_size  memory_size  battery_size release_date  \n",
       "0              36         5.00          8.0        2000.0      10-2020  \n",
       "1              36         5.00         16.0        2000.0       9-2020  \n",
       "2              36         5.00         16.0        2000.0       9-2020  \n",
       "3              36         5.00         16.0        2000.0       9-2020  \n",
       "4              10         5.71         16.0        3000.0       4-2020  "
      ]
     },
     "execution_count": 50,
     "metadata": {},
     "output_type": "execute_result"
    }
   ],
   "source": [
    "PHONE.head()"
   ]
  },
  {
   "cell_type": "code",
   "execution_count": 51,
   "metadata": {
    "id": "MDtWk400OCKV"
   },
   "outputs": [],
   "source": [
    "# 필요한 칼럼 추출 및 순서 재배치\n",
    "PHONE = PHONE[['model_name', 'best_price', 'lowest_price', 'highest_price', 'brand_name', 'os', 'popularity', 'screen_size','memory_size' ,'battery_size','release_date']]"
   ]
  },
  {
   "cell_type": "code",
   "execution_count": 52,
   "metadata": {
    "colab": {
     "base_uri": "https://localhost:8080/",
     "height": 624
    },
    "id": "VuLYPPl8OsiZ",
    "outputId": "95840ad4-861d-44d8-a9f6-1c50887ca5c2"
   },
   "outputs": [
    {
     "data": {
      "text/html": [
       "\n",
       "  <div id=\"df-aa4978cd-8332-4e49-9953-e78efd1f4739\">\n",
       "    <div class=\"colab-df-container\">\n",
       "      <div>\n",
       "<style scoped>\n",
       "    .dataframe tbody tr th:only-of-type {\n",
       "        vertical-align: middle;\n",
       "    }\n",
       "\n",
       "    .dataframe tbody tr th {\n",
       "        vertical-align: top;\n",
       "    }\n",
       "\n",
       "    .dataframe thead th {\n",
       "        text-align: right;\n",
       "    }\n",
       "</style>\n",
       "<table border=\"1\" class=\"dataframe\">\n",
       "  <thead>\n",
       "    <tr style=\"text-align: right;\">\n",
       "      <th></th>\n",
       "      <th>model_name</th>\n",
       "      <th>best_price</th>\n",
       "      <th>lowest_price</th>\n",
       "      <th>highest_price</th>\n",
       "      <th>brand_name</th>\n",
       "      <th>os</th>\n",
       "      <th>popularity</th>\n",
       "      <th>screen_size</th>\n",
       "      <th>memory_size</th>\n",
       "      <th>battery_size</th>\n",
       "      <th>release_date</th>\n",
       "    </tr>\n",
       "  </thead>\n",
       "  <tbody>\n",
       "    <tr>\n",
       "      <th>0</th>\n",
       "      <td>1 1/8GB Bluish Black (5033D-2JALUAA)</td>\n",
       "      <td>1690.0</td>\n",
       "      <td>1529.0</td>\n",
       "      <td>1819.0</td>\n",
       "      <td>ALCATEL</td>\n",
       "      <td>Android</td>\n",
       "      <td>422</td>\n",
       "      <td>5.00</td>\n",
       "      <td>8.0</td>\n",
       "      <td>2000.0</td>\n",
       "      <td>10-2020</td>\n",
       "    </tr>\n",
       "    <tr>\n",
       "      <th>1</th>\n",
       "      <td>1 5033D 1/16GB Volcano Black (5033D-2LALUAF)</td>\n",
       "      <td>1803.0</td>\n",
       "      <td>1659.0</td>\n",
       "      <td>2489.0</td>\n",
       "      <td>ALCATEL</td>\n",
       "      <td>Android</td>\n",
       "      <td>323</td>\n",
       "      <td>5.00</td>\n",
       "      <td>16.0</td>\n",
       "      <td>2000.0</td>\n",
       "      <td>9-2020</td>\n",
       "    </tr>\n",
       "    <tr>\n",
       "      <th>2</th>\n",
       "      <td>1 5033D 1/16GB Volcano Black (5033D-2LALUAF)</td>\n",
       "      <td>1803.0</td>\n",
       "      <td>1659.0</td>\n",
       "      <td>2489.0</td>\n",
       "      <td>ALCATEL</td>\n",
       "      <td>Android</td>\n",
       "      <td>299</td>\n",
       "      <td>5.00</td>\n",
       "      <td>16.0</td>\n",
       "      <td>2000.0</td>\n",
       "      <td>9-2020</td>\n",
       "    </tr>\n",
       "    <tr>\n",
       "      <th>3</th>\n",
       "      <td>1 5033D 1/16GB Volcano Black (5033D-2LALUAF)</td>\n",
       "      <td>1803.0</td>\n",
       "      <td>1659.0</td>\n",
       "      <td>2489.0</td>\n",
       "      <td>ALCATEL</td>\n",
       "      <td>Android</td>\n",
       "      <td>287</td>\n",
       "      <td>5.00</td>\n",
       "      <td>16.0</td>\n",
       "      <td>2000.0</td>\n",
       "      <td>9-2020</td>\n",
       "    </tr>\n",
       "    <tr>\n",
       "      <th>4</th>\n",
       "      <td>1.3 1/16GB Charcoal</td>\n",
       "      <td>1999.0</td>\n",
       "      <td>NaN</td>\n",
       "      <td>NaN</td>\n",
       "      <td>Nokia</td>\n",
       "      <td>Android</td>\n",
       "      <td>1047</td>\n",
       "      <td>5.71</td>\n",
       "      <td>16.0</td>\n",
       "      <td>3000.0</td>\n",
       "      <td>4-2020</td>\n",
       "    </tr>\n",
       "    <tr>\n",
       "      <th>...</th>\n",
       "      <td>...</td>\n",
       "      <td>...</td>\n",
       "      <td>...</td>\n",
       "      <td>...</td>\n",
       "      <td>...</td>\n",
       "      <td>...</td>\n",
       "      <td>...</td>\n",
       "      <td>...</td>\n",
       "      <td>...</td>\n",
       "      <td>...</td>\n",
       "      <td>...</td>\n",
       "    </tr>\n",
       "    <tr>\n",
       "      <th>1219</th>\n",
       "      <td>iPhone XS Max 64GB Gold (MT522)</td>\n",
       "      <td>22685.0</td>\n",
       "      <td>16018.0</td>\n",
       "      <td>27900.0</td>\n",
       "      <td>Apple</td>\n",
       "      <td>iOS</td>\n",
       "      <td>1101</td>\n",
       "      <td>6.50</td>\n",
       "      <td>64.0</td>\n",
       "      <td>3174.0</td>\n",
       "      <td>9-2018</td>\n",
       "    </tr>\n",
       "    <tr>\n",
       "      <th>1220</th>\n",
       "      <td>iPhone XS Max Dual Sim 64GB Gold (MT732)</td>\n",
       "      <td>24600.0</td>\n",
       "      <td>21939.0</td>\n",
       "      <td>33720.0</td>\n",
       "      <td>Apple</td>\n",
       "      <td>iOS</td>\n",
       "      <td>530</td>\n",
       "      <td>6.50</td>\n",
       "      <td>64.0</td>\n",
       "      <td>3174.0</td>\n",
       "      <td>9-2018</td>\n",
       "    </tr>\n",
       "    <tr>\n",
       "      <th>1221</th>\n",
       "      <td>nova 5T 6/128GB Black (51094MEU)</td>\n",
       "      <td>8804.0</td>\n",
       "      <td>7999.0</td>\n",
       "      <td>9999.0</td>\n",
       "      <td>HUAWEI</td>\n",
       "      <td>Android</td>\n",
       "      <td>1174</td>\n",
       "      <td>6.26</td>\n",
       "      <td>128.0</td>\n",
       "      <td>3750.0</td>\n",
       "      <td>11-2019</td>\n",
       "    </tr>\n",
       "    <tr>\n",
       "      <th>1222</th>\n",
       "      <td>nubia Red Magic 5G 8/128GB Black</td>\n",
       "      <td>18755.0</td>\n",
       "      <td>18500.0</td>\n",
       "      <td>19010.0</td>\n",
       "      <td>ZTE</td>\n",
       "      <td>Android</td>\n",
       "      <td>752</td>\n",
       "      <td>6.65</td>\n",
       "      <td>128.0</td>\n",
       "      <td>4500.0</td>\n",
       "      <td>10-2020</td>\n",
       "    </tr>\n",
       "    <tr>\n",
       "      <th>1223</th>\n",
       "      <td>x-style 35 Screen</td>\n",
       "      <td>907.0</td>\n",
       "      <td>785.0</td>\n",
       "      <td>944.0</td>\n",
       "      <td>Sigma mobile</td>\n",
       "      <td>NaN</td>\n",
       "      <td>952</td>\n",
       "      <td>3.50</td>\n",
       "      <td>NaN</td>\n",
       "      <td>1750.0</td>\n",
       "      <td>1-2020</td>\n",
       "    </tr>\n",
       "  </tbody>\n",
       "</table>\n",
       "<p>1224 rows × 11 columns</p>\n",
       "</div>\n",
       "      <button class=\"colab-df-convert\" onclick=\"convertToInteractive('df-aa4978cd-8332-4e49-9953-e78efd1f4739')\"\n",
       "              title=\"Convert this dataframe to an interactive table.\"\n",
       "              style=\"display:none;\">\n",
       "        \n",
       "  <svg xmlns=\"http://www.w3.org/2000/svg\" height=\"24px\"viewBox=\"0 0 24 24\"\n",
       "       width=\"24px\">\n",
       "    <path d=\"M0 0h24v24H0V0z\" fill=\"none\"/>\n",
       "    <path d=\"M18.56 5.44l.94 2.06.94-2.06 2.06-.94-2.06-.94-.94-2.06-.94 2.06-2.06.94zm-11 1L8.5 8.5l.94-2.06 2.06-.94-2.06-.94L8.5 2.5l-.94 2.06-2.06.94zm10 10l.94 2.06.94-2.06 2.06-.94-2.06-.94-.94-2.06-.94 2.06-2.06.94z\"/><path d=\"M17.41 7.96l-1.37-1.37c-.4-.4-.92-.59-1.43-.59-.52 0-1.04.2-1.43.59L10.3 9.45l-7.72 7.72c-.78.78-.78 2.05 0 2.83L4 21.41c.39.39.9.59 1.41.59.51 0 1.02-.2 1.41-.59l7.78-7.78 2.81-2.81c.8-.78.8-2.07 0-2.86zM5.41 20L4 18.59l7.72-7.72 1.47 1.35L5.41 20z\"/>\n",
       "  </svg>\n",
       "      </button>\n",
       "      \n",
       "  <style>\n",
       "    .colab-df-container {\n",
       "      display:flex;\n",
       "      flex-wrap:wrap;\n",
       "      gap: 12px;\n",
       "    }\n",
       "\n",
       "    .colab-df-convert {\n",
       "      background-color: #E8F0FE;\n",
       "      border: none;\n",
       "      border-radius: 50%;\n",
       "      cursor: pointer;\n",
       "      display: none;\n",
       "      fill: #1967D2;\n",
       "      height: 32px;\n",
       "      padding: 0 0 0 0;\n",
       "      width: 32px;\n",
       "    }\n",
       "\n",
       "    .colab-df-convert:hover {\n",
       "      background-color: #E2EBFA;\n",
       "      box-shadow: 0px 1px 2px rgba(60, 64, 67, 0.3), 0px 1px 3px 1px rgba(60, 64, 67, 0.15);\n",
       "      fill: #174EA6;\n",
       "    }\n",
       "\n",
       "    [theme=dark] .colab-df-convert {\n",
       "      background-color: #3B4455;\n",
       "      fill: #D2E3FC;\n",
       "    }\n",
       "\n",
       "    [theme=dark] .colab-df-convert:hover {\n",
       "      background-color: #434B5C;\n",
       "      box-shadow: 0px 1px 3px 1px rgba(0, 0, 0, 0.15);\n",
       "      filter: drop-shadow(0px 1px 2px rgba(0, 0, 0, 0.3));\n",
       "      fill: #FFFFFF;\n",
       "    }\n",
       "  </style>\n",
       "\n",
       "      <script>\n",
       "        const buttonEl =\n",
       "          document.querySelector('#df-aa4978cd-8332-4e49-9953-e78efd1f4739 button.colab-df-convert');\n",
       "        buttonEl.style.display =\n",
       "          google.colab.kernel.accessAllowed ? 'block' : 'none';\n",
       "\n",
       "        async function convertToInteractive(key) {\n",
       "          const element = document.querySelector('#df-aa4978cd-8332-4e49-9953-e78efd1f4739');\n",
       "          const dataTable =\n",
       "            await google.colab.kernel.invokeFunction('convertToInteractive',\n",
       "                                                     [key], {});\n",
       "          if (!dataTable) return;\n",
       "\n",
       "          const docLinkHtml = 'Like what you see? Visit the ' +\n",
       "            '<a target=\"_blank\" href=https://colab.research.google.com/notebooks/data_table.ipynb>data table notebook</a>'\n",
       "            + ' to learn more about interactive tables.';\n",
       "          element.innerHTML = '';\n",
       "          dataTable['output_type'] = 'display_data';\n",
       "          await google.colab.output.renderOutput(dataTable, element);\n",
       "          const docLink = document.createElement('div');\n",
       "          docLink.innerHTML = docLinkHtml;\n",
       "          element.appendChild(docLink);\n",
       "        }\n",
       "      </script>\n",
       "    </div>\n",
       "  </div>\n",
       "  "
      ],
      "text/plain": [
       "                                        model_name  best_price  lowest_price  \\\n",
       "0             1 1/8GB Bluish Black (5033D-2JALUAA)      1690.0        1529.0   \n",
       "1     1 5033D 1/16GB Volcano Black (5033D-2LALUAF)      1803.0        1659.0   \n",
       "2     1 5033D 1/16GB Volcano Black (5033D-2LALUAF)      1803.0        1659.0   \n",
       "3     1 5033D 1/16GB Volcano Black (5033D-2LALUAF)      1803.0        1659.0   \n",
       "4                              1.3 1/16GB Charcoal      1999.0           NaN   \n",
       "...                                            ...         ...           ...   \n",
       "1219               iPhone XS Max 64GB Gold (MT522)     22685.0       16018.0   \n",
       "1220      iPhone XS Max Dual Sim 64GB Gold (MT732)     24600.0       21939.0   \n",
       "1221              nova 5T 6/128GB Black (51094MEU)      8804.0        7999.0   \n",
       "1222              nubia Red Magic 5G 8/128GB Black     18755.0       18500.0   \n",
       "1223                             x-style 35 Screen       907.0         785.0   \n",
       "\n",
       "      highest_price    brand_name       os  popularity  screen_size  \\\n",
       "0            1819.0       ALCATEL  Android         422         5.00   \n",
       "1            2489.0       ALCATEL  Android         323         5.00   \n",
       "2            2489.0       ALCATEL  Android         299         5.00   \n",
       "3            2489.0       ALCATEL  Android         287         5.00   \n",
       "4               NaN         Nokia  Android        1047         5.71   \n",
       "...             ...           ...      ...         ...          ...   \n",
       "1219        27900.0         Apple      iOS        1101         6.50   \n",
       "1220        33720.0         Apple      iOS         530         6.50   \n",
       "1221         9999.0        HUAWEI  Android        1174         6.26   \n",
       "1222        19010.0           ZTE  Android         752         6.65   \n",
       "1223          944.0  Sigma mobile      NaN         952         3.50   \n",
       "\n",
       "      memory_size  battery_size release_date  \n",
       "0             8.0        2000.0      10-2020  \n",
       "1            16.0        2000.0       9-2020  \n",
       "2            16.0        2000.0       9-2020  \n",
       "3            16.0        2000.0       9-2020  \n",
       "4            16.0        3000.0       4-2020  \n",
       "...           ...           ...          ...  \n",
       "1219         64.0        3174.0       9-2018  \n",
       "1220         64.0        3174.0       9-2018  \n",
       "1221        128.0        3750.0      11-2019  \n",
       "1222        128.0        4500.0      10-2020  \n",
       "1223          NaN        1750.0       1-2020  \n",
       "\n",
       "[1224 rows x 11 columns]"
      ]
     },
     "execution_count": 52,
     "metadata": {},
     "output_type": "execute_result"
    }
   ],
   "source": [
    "PHONE"
   ]
  },
  {
   "cell_type": "code",
   "execution_count": 53,
   "metadata": {
    "colab": {
     "base_uri": "https://localhost:8080/"
    },
    "id": "mn3j76tmOCP5",
    "outputId": "ed928732-be31-4f08-cf20-f2697a0eea85"
   },
   "outputs": [
    {
     "data": {
      "text/plain": [
       "model_name         0\n",
       "best_price         0\n",
       "lowest_price     260\n",
       "highest_price    260\n",
       "brand_name         0\n",
       "os               197\n",
       "popularity         0\n",
       "screen_size        2\n",
       "memory_size      112\n",
       "battery_size      10\n",
       "release_date       0\n",
       "dtype: int64"
      ]
     },
     "execution_count": 53,
     "metadata": {},
     "output_type": "execute_result"
    }
   ],
   "source": [
    "# 결측치 확인\n",
    "PHONE.isna().sum()"
   ]
  },
  {
   "cell_type": "code",
   "execution_count": 54,
   "metadata": {
    "id": "MdfLekNXOH2Q"
   },
   "outputs": [],
   "source": [
    "# 결측치 제거\n",
    "PHONE = PHONE.dropna()"
   ]
  },
  {
   "cell_type": "code",
   "execution_count": 55,
   "metadata": {
    "id": "a-WAWc9iOH8l"
   },
   "outputs": [],
   "source": [
    "# 전처리 완료된 데이터파일 저장\n",
    "PHONE.to_csv(dpath + \"full_PHONE.csv\", encoding = 'utf8', index= False)"
   ]
  },
  {
   "cell_type": "markdown",
   "metadata": {
    "id": "vb-BVhyVQfFw"
   },
   "source": [
    "## 4. 최종 전처리 완료된 데이터셋"
   ]
  },
  {
   "cell_type": "code",
   "execution_count": 56,
   "metadata": {
    "id": "5XOkx2RlQlXn"
   },
   "outputs": [],
   "source": [
    "# 전처리 완료된 데이터파일 불러오기\n",
    "full_FURNITURE = pd.read_csv(dpath + \"full_FURNITURE.csv\")\n",
    "full_GROCERY = pd.read_csv(dpath + \"full_GROCERY.csv\")\n",
    "full_PHONE = pd.read_csv(dpath + \"full_PHONE.csv\")"
   ]
  },
  {
   "cell_type": "code",
   "execution_count": 57,
   "metadata": {
    "id": "VoQwmfEqgaWW"
   },
   "outputs": [],
   "source": [
    "# test용의 작은 datafile 생성\n",
    "test_FURNITURE = full_FURNITURE.iloc[:30, :]\n",
    "test_GROCERY = full_GROCERY.iloc[:30, :]\n",
    "test_PHONE = full_PHONE.iloc[:30, :]"
   ]
  },
  {
   "cell_type": "code",
   "execution_count": 58,
   "metadata": {
    "id": "1EnumF0ZhHFd"
   },
   "outputs": [],
   "source": [
    "# test용의 작은 datafile 저장\n",
    "test_FURNITURE.to_csv(dpath + \"test_FURNITURE.csv\", encoding = 'utf8', index= False)\n",
    "test_GROCERY.to_csv(dpath + \"test_GROCERY.csv\", encoding = 'utf8', index= False)\n",
    "test_PHONE.to_csv(dpath + \"test_PHONE.csv\", encoding = 'utf8', index= False)"
   ]
  },
  {
   "cell_type": "markdown",
   "metadata": {
    "id": "JEbrURL3PA31"
   },
   "source": [
    "## END"
   ]
  }
 ],
 "metadata": {
  "colab": {
   "provenance": [],
   "toc_visible": true
  },
  "kernelspec": {
   "display_name": "Python 3 (ipykernel)",
   "language": "python",
   "name": "python3"
  },
  "language_info": {
   "codemirror_mode": {
    "name": "ipython",
    "version": 3
   },
   "file_extension": ".py",
   "mimetype": "text/x-python",
   "name": "python",
   "nbconvert_exporter": "python",
   "pygments_lexer": "ipython3",
   "version": "3.9.7"
  }
 },
 "nbformat": 4,
 "nbformat_minor": 1
}
